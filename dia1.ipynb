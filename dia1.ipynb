{
 "cells": [
  {
   "cell_type": "code",
   "execution_count": 1,
   "id": "5c95b14d",
   "metadata": {},
   "outputs": [
    {
     "name": "stdout",
     "output_type": "stream",
     "text": [
      "holamundo\n"
     ]
    }
   ],
   "source": [
    "print(\"holamundo\")"
   ]
  },
  {
   "cell_type": "code",
   "execution_count": 24,
   "id": "ecee0c2d",
   "metadata": {},
   "outputs": [
    {
     "name": "stdout",
     "output_type": "stream",
     "text": [
      "Sofia\n",
      "Caballero\n",
      "Sofia Caballero\n"
     ]
    }
   ],
   "source": [
    "nombre = \"Sofia\"\n",
    "apellido = \"Caballero\"\n",
    "print(nombre)\n",
    "print(apellido)\n",
    "print (nombre + \" \" + apellido)\n"
   ]
  },
  {
   "cell_type": "code",
   "execution_count": 17,
   "id": "6efcddc1",
   "metadata": {},
   "outputs": [
    {
     "name": "stdout",
     "output_type": "stream",
     "text": [
      "13\n",
      "3\n"
     ]
    }
   ],
   "source": [
    "\n",
    "cantidad_de_manzana = 5\n",
    "\n",
    "cantidad_de_naranja = 8\n",
    "cantidad_de_frutas = cantidad_de_manzana + cantidad_de_naranja\n",
    "print (cantidad_de_frutas)\n",
    "frutas_vendidas = 10\n",
    "frutas_restantes = cantidad_de_frutas - frutas_vendidas\n",
    "print (frutas_restantes)"
   ]
  },
  {
   "cell_type": "markdown",
   "id": "02b75d54",
   "metadata": {},
   "source": [
    "Asignar el nombre y el apellido de tu compañera/o a las variables nombre y apellido. Luego, imprimir una frase, utilizando las variables.\n",
    "EJEMPLO: \"Hola. Me llamo Claudia Melgarejo. Mucho gusto.\""
   ]
  },
  {
   "cell_type": "code",
   "execution_count": null,
   "id": "30280fa4",
   "metadata": {},
   "outputs": [
    {
     "name": "stdout",
     "output_type": "stream",
     "text": [
      "hola. Me llamo Jesus Kamel. Mucho gusto\n",
      "Hola. Me llamo Jesus Kamel. Mucho gusto.\n"
     ]
    }
   ],
   "source": [
    "#Definicion de variables\n",
    "nombre = \"Jesus\"\n",
    "apellido = \"Kamel\" \n",
    "\n",
    "#forma 1\n",
    "print(\"hola. Me llamo \"+ nombre +\" \" + apellido +\". Mucho gusto\")\n",
    "\n",
    "#forma 2\n",
    "print(f\"Hola. Me llamo {nombre} {apellido}. Mucho gusto.\")\n"
   ]
  },
  {
   "cell_type": "markdown",
   "id": "d9650859",
   "metadata": {},
   "source": [
    "Challenge 🤺 - 10m\n",
    "Solicitar al usuario ingresar dos números y almacenarlos en dos variables. Luego, imprimir la suma de los dos números."
   ]
  },
  {
   "cell_type": "code",
   "execution_count": 54,
   "id": "1e1d8c12",
   "metadata": {},
   "outputs": [
    {
     "name": "stdout",
     "output_type": "stream",
     "text": [
      "60\n"
     ]
    }
   ],
   "source": [
    "numero1 = int(input(\"dame un numero\"))\n",
    "numero2 = int(input(\"dame otro numero\"))\n",
    "print(numero1 + numero2)\n"
   ]
  },
  {
   "cell_type": "markdown",
   "id": "0bd159ad",
   "metadata": {},
   "source": [
    "Challenge 🤺 - 10m\n",
    "Crear una función de un proceso que se les ocurra que tenga varios pasos.\n",
    "Ejecutar la función 3 veces."
   ]
  },
  {
   "cell_type": "code",
   "execution_count": 63,
   "id": "10237ea6",
   "metadata": {},
   "outputs": [
    {
     "name": "stdout",
     "output_type": "stream",
     "text": [
      "agarrar un bowl\n",
      "cortar bananas\n",
      "agregar al bowl\n",
      "cortar naranja\n",
      "agregar al bowl\n",
      "abrir yogurt\n",
      "agregar al bowl\n",
      "agregar avena\n",
      "agregar semillas varias\n",
      "agregar mani\n",
      "agregar miel\n",
      "agregar canela\n",
      "mezclar\n",
      "Listo!\n",
      "agarrar un bowl\n",
      "cortar bananas\n",
      "agregar al bowl\n",
      "cortar naranja\n",
      "agregar al bowl\n",
      "abrir yogurt\n",
      "agregar al bowl\n",
      "agregar avena\n",
      "agregar semillas varias\n",
      "agregar mani\n",
      "agregar miel\n",
      "agregar canela\n",
      "mezclar\n",
      "Listo!\n",
      "agarrar un bowl\n",
      "cortar bananas\n",
      "agregar al bowl\n",
      "cortar naranja\n",
      "agregar al bowl\n",
      "abrir yogurt\n",
      "agregar al bowl\n",
      "agregar avena\n",
      "agregar semillas varias\n",
      "agregar mani\n",
      "agregar miel\n",
      "agregar canela\n",
      "mezclar\n",
      "Listo!\n"
     ]
    }
   ],
   "source": [
    "def desayuno_saludable():\n",
    "    print('agarrar un bowl')\n",
    "    print('cortar bananas')\n",
    "    print('agregar al bowl')\n",
    "    print('cortar naranja')\n",
    "    print('agregar al bowl')\n",
    "    print('abrir yogurt')\n",
    "    print('agregar al bowl')\n",
    "    print('agregar avena')\n",
    "    print('agregar semillas varias')\n",
    "    print('agregar mani')\n",
    "    print('agregar miel')\n",
    "    print('agregar canela')\n",
    "    print('mezclar')\n",
    "    print('Listo!')\n",
    "\n",
    "\n",
    "desayuno_saludable()\n",
    "desayuno_saludable()\n",
    "desayuno_saludable()\n",
    "\n",
    " \n",
    "      \n"
   ]
  },
  {
   "cell_type": "markdown",
   "id": "f6955aa1",
   "metadata": {},
   "source": [
    "Challenge 🤺 - 15m\n",
    "Escribir una funcion que nos pida las caracteriticas de un elemento a comprar e imprima el elemento con sus caracteristicas."
   ]
  },
  {
   "cell_type": "code",
   "execution_count": 83,
   "id": "68b050b0",
   "metadata": {},
   "outputs": [
    {
     "name": "stdout",
     "output_type": "stream",
     "text": [
      "agarrar un bowl banana + naranja\n"
     ]
    }
   ],
   "source": [
    "def ensalada_de_frutas(ingrediente):\n",
    "    print ('agarrar un bowl' + ingrediente)\n",
    "\n",
    "ensalada_de_frutas(' banana + naranja')    \n",
    "\n",
    "\n",
    "\n",
    "\n",
    "   \n",
    "\n"
   ]
  }
 ],
 "metadata": {
  "kernelspec": {
   "display_name": "Python 3",
   "language": "python",
   "name": "python3"
  },
  "language_info": {
   "codemirror_mode": {
    "name": "ipython",
    "version": 3
   },
   "file_extension": ".py",
   "mimetype": "text/x-python",
   "name": "python",
   "nbconvert_exporter": "python",
   "pygments_lexer": "ipython3",
   "version": "3.13.3"
  }
 },
 "nbformat": 4,
 "nbformat_minor": 5
}
