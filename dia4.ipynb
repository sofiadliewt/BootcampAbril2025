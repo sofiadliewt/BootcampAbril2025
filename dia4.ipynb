{
 "cells": [
  {
   "cell_type": "markdown",
   "id": "dd40e655",
   "metadata": {},
   "source": [
    "Challenge 1 🤺\n",
    "Escribir un programa que cree un diccionario vacío y lo vaya llenado con información sobre una persona (por ejemplo nombre, edad, sexo, teléfono, correo electrónico, etc.) que se le pida al usuario. Cada vez que se añada un nuevo dato debe imprimirse el contenido del diccionario."
   ]
  },
  {
   "cell_type": "code",
   "execution_count": 2,
   "id": "00bf5a94",
   "metadata": {},
   "outputs": [
    {
     "name": "stdout",
     "output_type": "stream",
     "text": [
      "{'nombre': 'sofia'}\n",
      "{'nombre': 'sofia', 'apellido': 'caballero'}\n",
      "{'nombre': 'sofia', 'apellido': 'caballero', 'edad': '24'}\n",
      "{'nombre': 'sofia', 'apellido': 'caballero', 'edad': '24', 'correo': 'sofia.com'}\n"
     ]
    }
   ],
   "source": [
    "informacion_personal={}\n",
    "\n",
    "nombre= input('ingrese su nombre')\n",
    "informacion_personal['nombre'] = nombre\n",
    "print(informacion_personal)\n",
    "\n",
    "apellido= input('ingrese su apellido')\n",
    "informacion_personal['apellido'] = apellido\n",
    "print(informacion_personal)\n",
    "\n",
    "edad= input('ingrese su edad')\n",
    "informacion_personal['edad'] = edad\n",
    "print(informacion_personal)\n",
    "\n",
    "correo= input('ingrese su correo')\n",
    "informacion_personal['correo'] = correo\n",
    "print(informacion_personal)\n",
    "\n",
    "\n",
    "\n",
    "\n"
   ]
  },
  {
   "cell_type": "markdown",
   "id": "6db3d607",
   "metadata": {},
   "source": [
    "\n",
    "Challenge 2 🤺\n",
    "Crear una tarjeta personal. El usuario (mediante input) puede elegir:\n",
    "\n",
    "Crear datos nuevos\n",
    "Modificar datos\n",
    "Eliminar datos"
   ]
  },
  {
   "cell_type": "code",
   "execution_count": 51,
   "id": "a8d8095a",
   "metadata": {},
   "outputs": [
    {
     "ename": "NameError",
     "evalue": "name 'inforormacion_personal' is not defined",
     "output_type": "error",
     "traceback": [
      "\u001b[31m---------------------------------------------------------------------------\u001b[39m",
      "\u001b[31mNameError\u001b[39m                                 Traceback (most recent call last)",
      "\u001b[36mCell\u001b[39m\u001b[36m \u001b[39m\u001b[32mIn[51]\u001b[39m\u001b[32m, line 15\u001b[39m\n\u001b[32m     12\u001b[39m     clave = \u001b[38;5;28minput\u001b[39m(\u001b[33m'\u001b[39m\u001b[33mescriba su clave\u001b[39m\u001b[33m'\u001b[39m)\n\u001b[32m     13\u001b[39m     valor = \u001b[38;5;28minput\u001b[39m(\u001b[33m'\u001b[39m\u001b[33mescriba su valor\u001b[39m\u001b[33m'\u001b[39m) \n\u001b[32m---> \u001b[39m\u001b[32m15\u001b[39m     \u001b[38;5;28mprint\u001b[39m(\u001b[43minforormacion_personal\u001b[49m ) \n\u001b[32m     17\u001b[39m \u001b[38;5;28;01melif\u001b[39;00m opciones == (\u001b[33m'\u001b[39m\u001b[33mb\u001b[39m\u001b[33m'\u001b[39m):\n\u001b[32m     18\u001b[39m     clave = \u001b[38;5;28minput\u001b[39m(\u001b[33m'\u001b[39m\u001b[33mmodifique su clave\u001b[39m\u001b[33m'\u001b[39m)\n",
      "\u001b[31mNameError\u001b[39m: name 'inforormacion_personal' is not defined"
     ]
    }
   ],
   "source": [
    "informacion_personal={}\n",
    "\n",
    "\n",
    "crear = ('a')\n",
    "modificar = ('b')\n",
    "eliminar = ('c')\n",
    "\n",
    "\n",
    "opciones = input('seleciona una opcion')\n",
    "\n",
    "if opciones == ('a'): \n",
    "    clave = input('escriba su clave')\n",
    "    valor = input('escriba su valor') \n",
    "\n",
    "    print(inforormacion_personal ) \n",
    "\n",
    "elif opciones == ('b'):\n",
    "    clave = input('modifique su clave')\n",
    "    valor = input('modifique su valor')\n",
    "\n",
    "    print(informacion_personal) \n",
    "\n",
    "else: \n",
    "    del (informacion_personal)\n"
   ]
  },
  {
   "cell_type": "code",
   "execution_count": null,
   "id": "91e39f0c",
   "metadata": {},
   "outputs": [],
   "source": [
    "tarjeta_personal = {}\n",
    "while True:\n",
    "    eleccion = int(input (\"Que accion desea hacer ? Eliga los numeros 1, 2 o 3 donde: 1. Crear datos nuevos 2. Modificar datos 3. Eliminar datos\"))\n",
    "    if eleccion == 1:\n",
    "        print (\"Haz seleccionado crear datos nuevos\")\n",
    "        clave = input (\"Ingrese el nombre de tu dato: \").lower()\n",
    "        valor = input (\"Ingrese el valor de tu dato\").lower()\n",
    "        tarjeta_personal.update ({clave:valor})\n",
    "        print(tarjeta_personal)\n",
    "\n",
    "    elif eleccion == 2:\n",
    "        print (\"Haz seleccionado modificar datos, los datos que puedes modificar son:\")\n",
    "        if tarjeta_personal == {}:\n",
    "            print (\"No hay nada que modificar\")\n",
    "        else:\n",
    "            print (tarjeta_personal.keys())\n",
    "            dato = input(\"Ingrese el nuevo dato a modificar\").lower()\n",
    "            value = input (\"Ingrese el valor del dato:\")\n",
    "            tarjeta_personal[dato] = value\n",
    "        print(tarjeta_personal)\n",
    "\n",
    "    elif eleccion == 3:\n",
    "        print (\"Haz seleccionado eliminar datos, los datos que puedes eliminar son:\")\n",
    "        if tarjeta_personal == {}:\n",
    "            print (\"No hay nada que eliminar\")\n",
    "        else:\n",
    "            print (tarjeta_personal.keys())\n",
    "            dato = input(\"Ingrese dato a eliminar\").lower()\n",
    "            del tarjeta_personal[dato]\n",
    "            print (\"Se ha eliminado el dato correctamente\")\n",
    "        print(tarjeta_personal)\n",
    "    else:\n",
    "        print (\"Recuerde que las opciones estan enumeradas y debes introducir 1, 2 o 3\")\n",
    "        continue\n",
    "    condicionador = input(\"Desea hacer otra opcion ? si o no\").lower()\n",
    "    if condicionador == \"no\":\n",
    "        break\n",
    "print (tarjeta_personal)\n",
    "﻿\n"
   ]
  },
  {
   "cell_type": "markdown",
   "id": "352c5eb4",
   "metadata": {},
   "source": [
    "Challenge 3 🤺\n",
    "Crear una agenda de contactos. El usuario puede elegir:\n",
    "\n",
    "Mostrar los contactos\n",
    "Crear contacto\n",
    "Modificar datos del contacto"
   ]
  },
  {
   "cell_type": "code",
   "execution_count": null,
   "id": "f84ca9c5",
   "metadata": {},
   "outputs": [],
   "source": [
    "agenda={'sofi': {'apellido':'caballero','numero': '0985538827'},\n",
    "        'adri': {'apellido':'vazquez','numero': '0981111111'}}\n"
   ]
  },
  {
   "cell_type": "markdown",
   "id": "9e5cb309",
   "metadata": {},
   "source": []
  },
  {
   "cell_type": "code",
   "execution_count": null,
   "id": "bf8bc965",
   "metadata": {},
   "outputs": [
    {
     "ename": "NameError",
     "evalue": "name 'inforormacion_personal' is not defined",
     "output_type": "error",
     "traceback": [
      "\u001b[31m---------------------------------------------------------------------------\u001b[39m\n",
      "\u001b[31mNameError\u001b[39m                                 Traceback (most recent call last)\n",
      "\u001b[36mCell\u001b[39m\u001b[36m \u001b[39m\u001b[32mIn[51]\u001b[39m\u001b[32m, line 15\u001b[39m\n",
      "\u001b[32m     12\u001b[39m     clave = \u001b[38;5;28minput\u001b[39m(\u001b[33m'\u001b[39m\u001b[33mescriba su clave\u001b[39m\u001b[33m'\u001b[39m)\n",
      "\u001b[32m     13\u001b[39m     valor = \u001b[38;5;28minput\u001b[39m(\u001b[33m'\u001b[39m\u001b[33mescriba su valor\u001b[39m\u001b[33m'\u001b[39m) \n",
      "\u001b[32m---> \u001b[39m\u001b[32m15\u001b[39m     \u001b[38;5;28mprint\u001b[39m(\u001b[43minforormacion_personal\u001b[49m ) \n",
      "\u001b[32m     17\u001b[39m \u001b[38;5;28;01melif\u001b[39;00m opciones == (\u001b[33m'\u001b[39m\u001b[33mb\u001b[39m\u001b[33m'\u001b[39m):\n",
      "\u001b[32m     18\u001b[39m     clave = \u001b[38;5;28minput\u001b[39m(\u001b[33m'\u001b[39m\u001b[33mmodifique su clave\u001b[39m\u001b[33m'\u001b[39m)\n",
      "\n",
      "\u001b[31mNameError\u001b[39m: name 'inforormacion_personal' is not defined"
     ]
    }
   ],
   "source": [
    "informacion_personal={}\n",
    "\n",
    "\n",
    "crear = ('a')\n",
    "modificar = ('b')\n",
    "eliminar = ('c')\n",
    "\n",
    "\n",
    "opciones = input('seleciona una opcion')\n",
    "\n",
    "if opciones == ('a'): \n",
    "    clave = input('escriba su clave')\n",
    "    valor = input('escriba su valor') \n",
    "\n",
    "    print(inforormacion_personal ) \n",
    "\n",
    "elif opciones == ('b'):\n",
    "    clave = input('modifique su clave')\n",
    "    valor = input('modifique su valor')\n",
    "\n",
    "    print(informacion_personal) \n",
    "\n",
    "else: \n",
    "    del (informacion_personal)\n"
   ]
  },
  {
   "cell_type": "markdown",
   "id": "467a43bc",
   "metadata": {},
   "source": [
    "Challenge 🤺\n",
    "Crear dos métodos para nuestro animal y ejecutar, debe ser algo específico de ese animal.\n",
    "\n",
    "Ejemplo: \"Cuando hablo, digo X\".\n",
    "Ejemplo: \"Cuando me muevo, hago X\"."
   ]
  },
  {
   "cell_type": "code",
   "execution_count": null,
   "id": "bcef65b7",
   "metadata": {},
   "outputs": [
    {
     "ename": "NameError",
     "evalue": "name 'self' is not defined",
     "output_type": "error",
     "traceback": [
      "\u001b[31m---------------------------------------------------------------------------\u001b[39m",
      "\u001b[31mNameError\u001b[39m                                 Traceback (most recent call last)",
      "\u001b[36mCell\u001b[39m\u001b[36m \u001b[39m\u001b[32mIn[59]\u001b[39m\u001b[32m, line 10\u001b[39m\n\u001b[32m      7\u001b[39m     \u001b[38;5;28;01mdef\u001b[39;00m\u001b[38;5;250m \u001b[39m\u001b[34msalto\u001b[39m (\u001b[38;5;28mself\u001b[39m):\n\u001b[32m      8\u001b[39m         \u001b[38;5;28mprint\u001b[39m(\u001b[33m'\u001b[39m\u001b[33mcuando lunita se emociona salta\u001b[39m\u001b[33m'\u001b[39m)\n\u001b[32m---> \u001b[39m\u001b[32m10\u001b[39m \u001b[38;5;28;43mself\u001b[39;49m.ladrido = ladrido\n\u001b[32m     12\u001b[39m \u001b[38;5;28mself\u001b[39m= salto = salto\n\u001b[32m     15\u001b[39m \u001b[38;5;28mprint\u001b[39m(lunita.ladrido, lunita.salto)\n",
      "\u001b[31mNameError\u001b[39m: name 'self' is not defined"
     ]
    }
   ],
   "source": [
    "class Perro: \n",
    "\n",
    "    def ladrido (self):\n",
    "        print ('cuando lunita ladra suena guau guau')\n",
    "\n",
    "    def salto (self):\n",
    "        print('cuando lunita se emociona salta')\n",
    "\n",
    "\n",
    "lunita =        \n",
    "\n",
    "self.ladrido = ladrido\n",
    "\n",
    "self= salto = salto\n",
    "\n",
    "\n",
    "print(lunita.ladrido, lunita.salto)"
   ]
  },
  {
   "cell_type": "markdown",
   "id": "6ac6b114",
   "metadata": {},
   "source": [
    "Challenge 🤺\n",
    "Definir una clase madre que herede a sus clases hijas dos atributos de instancia. Mostrar ambos atributos en pantalla desde los objetos de las clases hijas.\n",
    "\n",
    "Observación: Editar las clases hijas para que no se inicialicen."
   ]
  }
 ],
 "metadata": {
  "kernelspec": {
   "display_name": "Python 3",
   "language": "python",
   "name": "python3"
  },
  "language_info": {
   "codemirror_mode": {
    "name": "ipython",
    "version": 3
   },
   "file_extension": ".py",
   "mimetype": "text/x-python",
   "name": "python",
   "nbconvert_exporter": "python",
   "pygments_lexer": "ipython3",
   "version": "3.13.3"
  }
 },
 "nbformat": 4,
 "nbformat_minor": 5
}
