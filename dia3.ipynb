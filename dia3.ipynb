{
 "cells": [
  {
   "cell_type": "code",
   "execution_count": 1,
   "id": "1472c260",
   "metadata": {},
   "outputs": [
    {
     "name": "stdout",
     "output_type": "stream",
     "text": [
      "hola mundo\n"
     ]
    }
   ],
   "source": [
    "def imprimir_saludo():\n",
    "    print('hola mundo')\n",
    "imprimir_saludo()    "
   ]
  },
  {
   "cell_type": "markdown",
   "id": "b751c0bd",
   "metadata": {},
   "source": [
    "Challenge 1 🤺 - 10m\n",
    "Crear una función que imprima la variable palabra."
   ]
  },
  {
   "cell_type": "code",
   "execution_count": 8,
   "id": "c30a373b",
   "metadata": {},
   "outputs": [
    {
     "name": "stdout",
     "output_type": "stream",
     "text": [
      "chau\n"
     ]
    }
   ],
   "source": [
    "def imp_palabra():\n",
    "    palabra='chau'\n",
    "    print(palabra)\n",
    "imp_palabra()    "
   ]
  },
  {
   "cell_type": "code",
   "execution_count": 11,
   "id": "fa50c7dc",
   "metadata": {},
   "outputs": [
    {
     "name": "stdout",
     "output_type": "stream",
     "text": [
      "nunita\n"
     ]
    }
   ],
   "source": [
    "def lunita():\n",
    "    lunita='nunita'\n",
    "    print(lunita)\n",
    "lunita() "
   ]
  },
  {
   "cell_type": "code",
   "execution_count": null,
   "id": "ff85911e",
   "metadata": {},
   "outputs": [
    {
     "name": "stdout",
     "output_type": "stream",
     "text": [
      "6\n"
     ]
    }
   ],
   "source": [
    "def sumar_numeros(numero1, numero2):\n",
    "    suma= numero1 + numero2\n",
    "    print(suma)\n",
    "\n",
    "sumar_numeros(1, 2) "
   ]
  },
  {
   "cell_type": "markdown",
   "id": "b5aed8ea",
   "metadata": {},
   "source": [
    "Challenge 2 🤺 - 20 min\n",
    "Crear una función que reciba dos letras (parámetros) y que verifique si son iguales:\n",
    "\n",
    "Si son iguales, imprimir \"Las letras son iguales\".\n",
    "\n",
    "De lo contrario, imprimir \"Las letras son diferentes\"."
   ]
  },
  {
   "cell_type": "code",
   "execution_count": null,
   "id": "a2c0a8b2",
   "metadata": {},
   "outputs": [
    {
     "name": "stdout",
     "output_type": "stream",
     "text": [
      "Las letras son iguales\n"
     ]
    }
   ],
   "source": [
    "\n",
    "def letras(letra1,letra2):\n",
    "\n",
    "    if letra1 == letra2:\n",
    "      print('Las letras son iguales')\n",
    "\n",
    "    else:\n",
    "      print('Las letras son diferentes')\n",
    "\n",
    "letras('s', 'l')      \n",
    "\n",
    "    "
   ]
  },
  {
   "cell_type": "code",
   "execution_count": 40,
   "id": "a75901b3",
   "metadata": {},
   "outputs": [
    {
     "name": "stdout",
     "output_type": "stream",
     "text": [
      "5\n"
     ]
    },
    {
     "data": {
      "text/plain": [
       "5"
      ]
     },
     "execution_count": 40,
     "metadata": {},
     "output_type": "execute_result"
    }
   ],
   "source": [
    "def sumar (numero1, numero2):\n",
    "    suma= numero1 + numero2\n",
    "    print(suma)\n",
    "    return suma\n",
    "    \n",
    "sumar(1,4)"
   ]
  },
  {
   "cell_type": "code",
   "execution_count": 41,
   "id": "123af5ec",
   "metadata": {},
   "outputs": [
    {
     "name": "stdout",
     "output_type": "stream",
     "text": [
      "5\n",
      "6\n"
     ]
    }
   ],
   "source": [
    "suma1= sumar (1,4)\n",
    "total= suma1 + 1\n",
    "print(total)"
   ]
  },
  {
   "cell_type": "markdown",
   "id": "507aa3ea",
   "metadata": {},
   "source": [
    "Challenge 3 🤺 - 20m\n",
    "Crear una función que reciba dos parámetros (una palabra y un número), y que retorne True si el número es igual a la cantidad de letras de la palabra. En caso contrario, que retorne False.\n",
    "\n",
    "Pista: cantidad de letras de una palabra en python"
   ]
  },
  {
   "cell_type": "code",
   "execution_count": 44,
   "id": "11181436",
   "metadata": {},
   "outputs": [
    {
     "data": {
      "text/plain": [
       "True"
      ]
     },
     "execution_count": 44,
     "metadata": {},
     "output_type": "execute_result"
    }
   ],
   "source": [
    "def palabra_numero(palabra, numero):\n",
    "    if len (palabra) == numero:\n",
    "        return True\n",
    "    else:\n",
    "        return False\n",
    "\n",
    "palabra_numero('lunita', 6)\n",
    "\n",
    "\n"
   ]
  },
  {
   "cell_type": "markdown",
   "id": "eb83fd38",
   "metadata": {},
   "source": [
    "Challenge 5 🤺 - 25m\n",
    "Pedir al usuario que ingrese 1 palabra, luego convertir esa palabra a una lista con sus caracteres con list(). Agregar esa lista de caracteres a una lista llamada palabras_ingresadas. Repetir el proceso 3 veces. Cada vez que se agregue una lista de caracteres, imprimir la lista palabras_ingresadas.\n",
    "\n",
    "\n",
    "Ejemplo del resultado esperado:\n",
    "\n",
    "[['c', 'i', 'e', 'l', 'o']]\n",
    " # Al ingresar la primera palabra\n",
    "\n",
    "[['c', 'i', 'e', 'l', 'o'], ['c', 'a', 'l', 'o', 'r']]\n",
    " # Al ingresar la segunda palabra\n",
    "\n",
    "[['c', 'i', 'e', 'l', 'o'], ['c', 'a', 'l', 'o', 'r'], ['n', 'u', 'b', 'e', 's']]\n",
    " # Al ingresar la tercera palabra"
   ]
  },
  {
   "cell_type": "code",
   "execution_count": 56,
   "id": "271f6e1a",
   "metadata": {},
   "outputs": [
    {
     "name": "stdout",
     "output_type": "stream",
     "text": [
      "[['h', 'o', 'l', 'a']]\n",
      "[['h', 'o', 'l', 'a'], ['h', 'o', 'l', 'a', 'a']]\n",
      "[['h', 'o', 'l', 'a'], ['h', 'o', 'l', 'a', 'a'], ['h', 'o', 'l', 'a', 'a', 'a']]\n"
     ]
    }
   ],
   "source": [
    "palabra_ingresada=[]\n",
    "\n",
    "for i in range(3):\n",
    "  palabra_usuario= input('inserte una palabra')\n",
    "  palabra_lista = list(palabra_usuario)\n",
    "  palabra_ingresada. append(palabra_lista)\n",
    "  print(palabra_ingresada)\n",
    "\n",
    "\n"
   ]
  },
  {
   "cell_type": "markdown",
   "id": "0bcccb37",
   "metadata": {},
   "source": [
    "Challenge 6 🤺 - 25m\n",
    "Dada la lista de ejemplo: \n",
    "\n",
    "lista = [['h', 'o', 'l', 'i', 's'], ['h', 'e', 'l', 'l', 'o'], ['h', 'a', 'l', 'l', 'o']]\n",
    "\n",
    "Crear una función que imprima una grilla (lista de listas), una línea por cada lista dentro de la lista principal.\n",
    "\n",
    "Ejemplo del resultado esperado:\n",
    "\n",
    "['h', 'o', 'l', 'i', 's']\n",
    "['h', 'e', 'l', 'l', 'o']\n",
    "['h', 'a', 'l', 'l', 'o']\n"
   ]
  },
  {
   "cell_type": "code",
   "execution_count": 61,
   "id": "4da4f10b",
   "metadata": {},
   "outputs": [
    {
     "name": "stdout",
     "output_type": "stream",
     "text": [
      "[['h', 'o', 'l', 'i', 's'], ['h', 'e', 'l', 'l', 'o'], ['h', 'a', 'l', 'l', 'o']]\n",
      "['h', 'o', 'l', 'i', 's']\n",
      "['h', 'e', 'l', 'l', 'o']\n",
      "['h', 'a', 'l', 'l', 'o']\n"
     ]
    }
   ],
   "source": [
    "lista = [['h', 'o', 'l', 'i', 's'], ['h', 'e', 'l', 'l', 'o'], ['h', 'a', 'l', 'l', 'o']]\n",
    "print(lista)\n",
    "for listadelista in lista:\n",
    "    print(listadelista)"
   ]
  },
  {
   "cell_type": "markdown",
   "id": "5d7a72e2",
   "metadata": {},
   "source": [
    "iniciar juego\n",
    "\n",
    "definir palabra_a_encontrar\n",
    "definir cantidad_de_letras\n",
    "definir intentos\n",
    "crear grilla vacia (lista para mostrar el progreso del jugador) \n",
    "\n",
    "mostrar mensaje de bienvenida"
   ]
  },
  {
   "cell_type": "code",
   "execution_count": 98,
   "id": "9bbc241e",
   "metadata": {},
   "outputs": [
    {
     "name": "stdout",
     "output_type": "stream",
     "text": [
      "Bienvenido a Penword Adivina la palabra de 5 letras. Tienes 6 intentos.\n",
      "¡Felicidades! Adivinaste la palabra.\n"
     ]
    }
   ],
   "source": [
    "print(\"Bienvenido a Penword Adivina la palabra de 5 letras. Tienes 6 intentos.\")\n",
    "intentos=6\n",
    "longitud=5\n",
    "palabra_oculta=\"plomo\"\n",
    "\n",
    "for intento in range(1, intentos + 1):\n",
    "    palabra_usuario = input(f\"Intento {intento}/{intentos}: Ingresa una palabra de {longitud} letras: \")\n",
    "    \n",
    "    if len(palabra_usuario) != longitud:\n",
    "        print(f\"La palabra debe tener exactamente {longitud} letras.\")\n",
    "        continue\n",
    "    \n",
    "    if palabra_usuario == palabra_oculta:\n",
    "        print(\"¡Felicidades! Adivinaste la palabra.\")\n",
    "        break\n",
    "\n",
    "    def obtener_fila_verificada(palabra_oculta, palabra_usuario):\n",
    "        resultado = \"\"\n",
    "        for i in range(len(palabra_usuario)):\n",
    "            if palabra_usuario[i] == palabra_oculta[i]:\n",
    "                resultado += f\"{palabra_usuario[i]}🟩 \"\n",
    "            elif palabra_usuario[i] in palabra_oculta:\n",
    "                resultado += f\"{palabra_usuario[i]}🟨 \"\n",
    "            else:\n",
    "                resultado += f\"{palabra_usuario[i]}⬜ \"\n",
    "        return resultado\n",
    "\n",
    "    linea_verificada = obtener_fila_verificada(palabra_oculta, palabra_usuario)\n",
    "    print(\"Resultado:\", \"\".join(linea_verificada))\n",
    "else:\n",
    "    print(f\"Lo siento, no adivinaste la palabra. La palabra era '{palabra_oculta}'.\")"
   ]
  }
 ],
 "metadata": {
  "kernelspec": {
   "display_name": "Python 3",
   "language": "python",
   "name": "python3"
  },
  "language_info": {
   "codemirror_mode": {
    "name": "ipython",
    "version": 3
   },
   "file_extension": ".py",
   "mimetype": "text/x-python",
   "name": "python",
   "nbconvert_exporter": "python",
   "pygments_lexer": "ipython3",
   "version": "3.13.3"
  }
 },
 "nbformat": 4,
 "nbformat_minor": 5
}
