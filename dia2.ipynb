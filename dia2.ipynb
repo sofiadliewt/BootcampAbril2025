{
 "cells": [
  {
   "cell_type": "code",
   "execution_count": 1,
   "id": "a0b2b684",
   "metadata": {},
   "outputs": [],
   "source": [
    "def saludo_bienvenida(nombre):\n",
    "    print(f'Buen dia {nombre}')"
   ]
  },
  {
   "cell_type": "code",
   "execution_count": 2,
   "id": "a911719f",
   "metadata": {},
   "outputs": [
    {
     "name": "stdout",
     "output_type": "stream",
     "text": [
      "Buen dia sofi\n"
     ]
    }
   ],
   "source": [
    "saludo_bienvenida('sofi')"
   ]
  },
  {
   "cell_type": "code",
   "execution_count": 5,
   "id": "f3e6f723",
   "metadata": {},
   "outputs": [
    {
     "name": "stdout",
     "output_type": "stream",
     "text": [
      "Buen dia sofi\n",
      "hola sofi\n"
     ]
    }
   ],
   "source": [
    "usuario= input('ingrese su nombre')\n",
    "saludo_bienvenida(usuario)\n",
    "\n",
    "def saludo (nombre):\n",
    "    print(\"hola\", nombre)\n",
    "    \n",
    "saludo('sofi')"
   ]
  },
  {
   "cell_type": "markdown",
   "id": "c20e2770",
   "metadata": {},
   "source": [
    "Challenge🤺 - 20m\n",
    "Escribe un programa que pregunte al usuario por su edad y determine si tiene edad suficiente para comprar y consumir alcohol.\n",
    "Si el usuario tiene mas de 18 pero menos de 21 impirmir \"Podes tomar pero no comprar\"\n",
    "Si el usuario tiene menos de 18 imprimir \"Juguito nomas\"\n",
    "Si el usuario tiene mas de 21 imprimir \"Hace lo que quieras\""
   ]
  },
  {
   "cell_type": "code",
   "execution_count": null,
   "id": "22bcd28d",
   "metadata": {},
   "outputs": [
    {
     "name": "stdout",
     "output_type": "stream",
     "text": [
      "podes tomar pero no comprar\n"
     ]
    }
   ],
   "source": [
    "edad = int (input('indica tu edad'))\n",
    "\n",
    "if edad <18: \n",
    "    print('juguito nomas')\n",
    "\n",
    "elif edad >21:\n",
    "    print('hace lo que quieras')\n",
    "\n",
    "else:\n",
    "    print('podes tomar pero no comprar')       \n",
    " "
   ]
  },
  {
   "cell_type": "markdown",
   "id": "1b082bf9",
   "metadata": {},
   "source": [
    "Challenge 🤺 - 30m\n",
    "Escribir un programa en el que se pregunte al usuario por una temperatura (en grados Celsius), imprima la temperatura escrita, y luego clasificar la temperatura ingresada en los siguientes niveles:\n",
    "\n",
    "Entre -10 y 18 grados, que imprima \"Fresquete\".\n",
    "Entre 19 y 30 grados, que imprima \"Calor'i\".\n",
    "Entre 31 y 45 grados, que imprima \"Hakuuuuuu\".\n",
    "Para todo lo demás, imprimir \"Ñamano mba'e!\"."
   ]
  },
  {
   "cell_type": "code",
   "execution_count": 11,
   "id": "3c7639af",
   "metadata": {},
   "outputs": [
    {
     "name": "stdout",
     "output_type": "stream",
     "text": [
      "temperatura actual: 60\n",
      "ñamano mba'e\n"
     ]
    }
   ],
   "source": [
    "temperatura = int (input('indica la temperatura actual'))\n",
    "print(f'temperatura actual: {temperatura}')\n",
    "\n",
    "if -10 < temperatura < 18: \n",
    "    print('fresquete')\n",
    "elif 19 < temperatura < 30:\n",
    "    print( \"calor'i\") \n",
    "elif 31< temperatura < 45:\n",
    "    print('hakuuuuu')\n",
    "else:\n",
    "    print(\"ñamano mba'e\")"
   ]
  },
  {
   "cell_type": "markdown",
   "id": "5ee2a248",
   "metadata": {},
   "source": [
    "Challenge 🤺 - 20m\n",
    "Escribir un programa que almacene una contraseña en una variable, y pregunte al usuario por la contraseña hasta que introduzca la contraseña correcta.\n",
    "\n",
    "Cuando el usuario ingrese la contrasena correcta, imprimir un mensaje secreto."
   ]
  },
  {
   "cell_type": "code",
   "execution_count": 16,
   "id": "714d466b",
   "metadata": {},
   "outputs": [
    {
     "name": "stdout",
     "output_type": "stream",
     "text": [
      "correcto perfecto entiendo eike atu\n"
     ]
    }
   ],
   "source": [
    "while True:\n",
    "    contraseña=input('ingrese la contraseña')\n",
    "    if contraseña== 'azul':\n",
    "        print('correcto perfecto entiendo eike atu')\n",
    "        break\n",
    "    else:\n",
    "        print('incorrecto')\n",
    "        contraseña=input('ingrese la contraseña')\n",
    "\n"
   ]
  },
  {
   "cell_type": "markdown",
   "id": "56615a16",
   "metadata": {},
   "source": [
    "challenge 🤺 - 20m\n",
    "Crear una lista de 5 elementos. Luego, seguir los siguientes pasos.\n",
    "\n",
    "Agregar un elemento al final de la lista.\n",
    "\n",
    "Modificar el segundo elemento.\n",
    "\n",
    "Eliminar el tercer elemento."
   ]
  },
  {
   "cell_type": "code",
   "execution_count": 30,
   "id": "ea28d1e2",
   "metadata": {},
   "outputs": [
    {
     "name": "stdout",
     "output_type": "stream",
     "text": [
      "amarillo\n",
      "5\n",
      "['azul', 'verde', 'rojo', 'amarillo', 'celeste', 'lila']\n",
      "['azul', 'verde', 'anaranjado', 'amarillo', 'celeste', 'lila']\n",
      "['azul', 'verde', 'anaranjado', 'celeste', 'lila']\n"
     ]
    }
   ],
   "source": [
    "lista_de_colores = ['azul', 'verde', 'rojo', 'amarillo', 'celeste']\n",
    "print(lista_de_colores[3])\n",
    "print(len(lista_de_colores))\n",
    "lista_de_colores.append('lila')\n",
    "print(lista_de_colores)\n",
    "lista_de_colores[2]=('anaranjado')\n",
    "print(lista_de_colores)\n",
    "lista_de_colores.remove('amarillo')\n",
    "print(lista_de_colores)\n"
   ]
  },
  {
   "cell_type": "code",
   "execution_count": 35,
   "id": "506bec34",
   "metadata": {},
   "outputs": [
    {
     "name": "stdout",
     "output_type": "stream",
     "text": [
      "1\n",
      "2\n",
      "3\n",
      "4\n",
      "5\n",
      "6\n",
      "7\n"
     ]
    }
   ],
   "source": [
    "dias_de_la_semana = [1,2,3,4,5,6,7]\n",
    "for dia in dias_de_la_semana:\n",
    "    print(dia)"
   ]
  },
  {
   "cell_type": "code",
   "execution_count": 46,
   "id": "b6f91fa6",
   "metadata": {},
   "outputs": [
    {
     "name": "stdout",
     "output_type": "stream",
     "text": [
      "ñuñi\n",
      "ñuñi\n",
      "ñuñi\n",
      "ñuñi\n",
      "ñuñi\n"
     ]
    }
   ],
   "source": [
    "for i in range(5):\n",
    "    print('ñuñi')\n",
    "\n"
   ]
  },
  {
   "cell_type": "code",
   "execution_count": 43,
   "id": "eeeacc94",
   "metadata": {},
   "outputs": [
    {
     "name": "stdout",
     "output_type": "stream",
     "text": [
      "0\n",
      "2\n",
      "4\n",
      "6\n",
      "8\n",
      "10\n",
      "12\n",
      "14\n",
      "16\n",
      "18\n"
     ]
    }
   ],
   "source": [
    "for i in range (10):\n",
    "    resultado= i * 2\n",
    "    print(resultado)\n",
    "\n"
   ]
  },
  {
   "cell_type": "code",
   "execution_count": 58,
   "id": "f9d4fdf8",
   "metadata": {},
   "outputs": [
    {
     "name": "stdout",
     "output_type": "stream",
     "text": [
      "5\n",
      "10\n",
      "15\n",
      "20\n",
      "25\n",
      "30\n",
      "35\n",
      "40\n",
      "45\n",
      "50\n",
      "55\n"
     ]
    }
   ],
   "source": [
    "for nuni in range (1,12):\n",
    "    print(nuni *5)"
   ]
  },
  {
   "cell_type": "markdown",
   "id": "180af587",
   "metadata": {},
   "source": [
    "Challenge 🤺 - 20m\n",
    "Recorrer los elementos de una lista de marcas e imprimir cada marca solamente si tiene 6 letras o más."
   ]
  },
  {
   "cell_type": "code",
   "execution_count": 66,
   "id": "3856e616",
   "metadata": {},
   "outputs": [
    {
     "name": "stdout",
     "output_type": "stream",
     "text": [
      "indian\n",
      "hering\n",
      "bershka\n",
      "forever\n"
     ]
    }
   ],
   "source": [
    "marcas= ['zara', 'indian', 'hering', 'bershka', 'mango', 'forever']\n",
    "for marcass in marcas:\n",
    "    if len (marcass) >=6:\n",
    "      print(marcass)\n"
   ]
  },
  {
   "cell_type": "markdown",
   "id": "e9dda60b",
   "metadata": {},
   "source": []
  },
  {
   "cell_type": "code",
   "execution_count": 77,
   "id": "9d61baa6",
   "metadata": {},
   "outputs": [],
   "source": [
    "frase= input('inserte una frase')\n",
    "for letras in frase:\n",
    "    if letras == 'o':\n",
    "        print('quiero un chessecake de frutos rojos')"
   ]
  }
 ],
 "metadata": {
  "kernelspec": {
   "display_name": "Python 3",
   "language": "python",
   "name": "python3"
  },
  "language_info": {
   "codemirror_mode": {
    "name": "ipython",
    "version": 3
   },
   "file_extension": ".py",
   "mimetype": "text/x-python",
   "name": "python",
   "nbconvert_exporter": "python",
   "pygments_lexer": "ipython3",
   "version": "3.13.3"
  }
 },
 "nbformat": 4,
 "nbformat_minor": 5
}
